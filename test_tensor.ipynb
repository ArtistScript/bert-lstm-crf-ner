{
 "cells": [
  {
   "cell_type": "code",
   "execution_count": 23,
   "metadata": {},
   "outputs": [
    {
     "name": "stdout",
     "output_type": "stream",
     "text": [
      "[[1 2 3 4 5]\n",
      " [1 2 2 2 2]]\n",
      "[[1 2 3]\n",
      " [1 2 2]]\n",
      "[2 5]\n",
      "[2 5]\n",
      "[[ True  True  True  True  True]\n",
      " [ True  True False False False]]\n",
      "[[1 1 1 1 1]\n",
      " [1 1 0 0 0]]\n",
      "7\n",
      "10\n",
      "0.7\n"
     ]
    }
   ],
   "source": [
    "import tensorflow as tf\n",
    "pred_ids=[[1,2,3,4,5],[1,2,3,4,5]]\n",
    "pred_ids2=[[1,2,3,4,5],[1,2,2,2,2]]\n",
    "pred_ids_t=tf.constant(pred_ids,dtype=tf.int32)\n",
    "shaped=tf.constant(pred_ids2,dtype=tf.int32)\n",
    "# shaped=shaped.get_shape()\n",
    "sliced=shaped[:,:3]\n",
    "# assert tf.shape(pred_ids_t)[0]==tf.shape(shaped)[0]\n",
    "# assert_op = tf.Assert(tf.less_equal(tf.reduce_max(x), 1.), [x])\n",
    "equal=tf.equal(pred_ids_t,shaped)\n",
    "equal_int=tf.cast(equal,dtype=tf.int32)\n",
    "sum_int=tf.reduce_sum(equal_int)\n",
    "size=tf.size(equal_int)\n",
    "accuracy=sum_int/size\n",
    "with tf.Session() as sess:\n",
    "    sp=sess.run(shaped)\n",
    "    print(sp)\n",
    "    print(sess.run(sliced))\n",
    "    print(sess.run(tf.shape(pred_ids_t)))\n",
    "    print(sess.run(tf.shape(shaped)))\n",
    "    print(sess.run(equal))\n",
    "    print(sess.run(equal_int))\n",
    "    print(sess.run(sum_int))\n",
    "    print(sess.run(size))\n",
    "    print(sess.run(accuracy))\n",
    "#     print(sess.run(shaped))"
   ]
  },
  {
   "cell_type": "code",
   "execution_count": null,
   "metadata": {},
   "outputs": [],
   "source": []
  }
 ],
 "metadata": {
  "kernelspec": {
   "display_name": "Python 3",
   "language": "python",
   "name": "python3"
  },
  "language_info": {
   "codemirror_mode": {
    "name": "ipython",
    "version": 3
   },
   "file_extension": ".py",
   "mimetype": "text/x-python",
   "name": "python",
   "nbconvert_exporter": "python",
   "pygments_lexer": "ipython3",
   "version": "3.6.1"
  }
 },
 "nbformat": 4,
 "nbformat_minor": 2
}
