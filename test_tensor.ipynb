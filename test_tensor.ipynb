{
 "cells": [
  {
   "cell_type": "code",
   "execution_count": 3,
   "metadata": {},
   "outputs": [
    {
     "name": "stdout",
     "output_type": "stream",
     "text": [
      "[[1 2 3 4 5]\n",
      " [1 2 2 2 2]]\n",
      "[[1 2 3]\n",
      " [1 2 2]]\n",
      "[2 5]\n",
      "[2 5]\n",
      "[[ True  True  True  True  True]\n",
      " [ True  True False False False]]\n",
      "[[1 1 1 1 1]\n",
      " [1 1 0 0 0]]\n",
      "7\n",
      "10\n",
      "accuracy: 0.7\n"
     ]
    }
   ],
   "source": [
    "import tensorflow as tf\n",
    "pred_ids=[[1,2,3,4,5],[1,2,3,4,5]]\n",
    "pred_ids2=[[1,2,3,4,5],[1,2,2,2,2]]\n",
    "pred_ids_t=tf.constant(pred_ids,dtype=tf.int32)\n",
    "shaped=tf.constant(pred_ids2,dtype=tf.int32)\n",
    "# shaped=shaped.get_shape()\n",
    "sliced=shaped[:,:3]\n",
    "# assert tf.shape(pred_ids_t)[0]==tf.shape(shaped)[0]\n",
    "# assert_op = tf.Assert(tf.less_equal(tf.reduce_max(x), 1.), [x])\n",
    "equal=tf.equal(pred_ids_t,shaped)\n",
    "equal_int=tf.cast(equal,dtype=tf.int32)\n",
    "sum_int=tf.reduce_sum(equal_int)\n",
    "size=tf.size(equal_int)\n",
    "accuracy=sum_int/size\n",
    "with tf.Session() as sess:\n",
    "    sp=sess.run(shaped)\n",
    "    print(sp)\n",
    "    print(sess.run(sliced))\n",
    "    print(sess.run(tf.shape(pred_ids_t)))\n",
    "    print(sess.run(tf.shape(shaped)))\n",
    "    print(sess.run(equal))\n",
    "    print(sess.run(equal_int))\n",
    "    print(sess.run(sum_int))\n",
    "    print(sess.run(size))\n",
    "    acu=sess.run(accuracy)\n",
    "    print('accuracy: %s'%(acu))\n",
    "#     print(sess.run(shaped))"
   ]
  },
  {
   "cell_type": "code",
   "execution_count": 2,
   "metadata": {},
   "outputs": [
    {
     "name": "stdout",
     "output_type": "stream",
     "text": [
      "2\n",
      "[[1 2 3 4 5]\n",
      " [1 2 3 4 5]]\n",
      "[[1 2]\n",
      " [1 2]]\n"
     ]
    }
   ],
   "source": [
    "import tensorflow as tf\n",
    "pred_ids=[[1,2,3,4,5],[1,2,3,4,5]]\n",
    "pred_ids_t=tf.constant(pred_ids,dtype=tf.int32)\n",
    "ll=[1,0,1,0]\n",
    "lengths=tf.reduce_sum(ll)#不能使用 ,reduction_indices=1\n",
    "pred_shape=tf.shape(pred_ids)\n",
    "sliced=tf.slice(pred_ids,[0,0],[pred_shape[0],lengths])\n",
    "with tf.Session() as sess:\n",
    "    print(sess.run(lengths))\n",
    "    print(sess.run(pred_ids_t))\n",
    "    print(sess.run(sliced))"
   ]
  },
  {
   "cell_type": "code",
   "execution_count": 6,
   "metadata": {},
   "outputs": [
    {
     "name": "stdout",
     "output_type": "stream",
     "text": [
      "[[0]\n",
      " [1]\n",
      " [2]\n",
      " [3]\n",
      " [4]]\n"
     ]
    }
   ],
   "source": [
    "from tensorflow.python.ops import math_ops\n",
    "from tensorflow.python.framework import constant_op\n",
    "matrix=[[1],[2],[3],[4],[5]]\n",
    "matrix_t=tf.constant(matrix,dtype=tf.int32)\n",
    "m_t=matrix_t-1\n",
    "sequence_length_less_one = math_ops.maximum(\n",
    "        constant_op.constant(0, dtype=matrix_t.dtype),\n",
    "        matrix_t - 1)\n",
    "with tf.Session() as sess:\n",
    "    print(sess.run(sequence_length_less_one))"
   ]
  },
  {
   "cell_type": "code",
   "execution_count": 9,
   "metadata": {},
   "outputs": [
    {
     "name": "stdout",
     "output_type": "stream",
     "text": [
      "[(0.6666667, 0.6666667)]\n"
     ]
    }
   ],
   "source": [
    "logits = [[0.1, 0.5, 0.4],\n",
    "          [0.8, 0.1, 0.1],\n",
    "          [0.6, 0.3, 0.2]]\n",
    "labels = [[0, 1, 0],\n",
    "          [1, 0, 0],\n",
    "          [0, 0, 1]]\n",
    "acc, acc_op = tf.metrics.accuracy(labels=tf.argmax(labels, 1), \n",
    "                                  predictions=tf.argmax(logits,1))\n",
    "sess = tf.Session()\n",
    "\n",
    "sess.run(tf.local_variables_initializer())\n",
    "sess.run(tf.global_variables_initializer())\n",
    "print(sess.run([acc, acc_op]))\n",
    "print(sess.run([acc]))"
   ]
  },
  {
   "cell_type": "code",
   "execution_count": null,
   "metadata": {},
   "outputs": [],
   "source": []
  }
 ],
 "metadata": {
  "kernelspec": {
   "display_name": "Python 3",
   "language": "python",
   "name": "python3"
  },
  "language_info": {
   "codemirror_mode": {
    "name": "ipython",
    "version": 3
   },
   "file_extension": ".py",
   "mimetype": "text/x-python",
   "name": "python",
   "nbconvert_exporter": "python",
   "pygments_lexer": "ipython3",
   "version": "3.6.1"
  }
 },
 "nbformat": 4,
 "nbformat_minor": 2
}
