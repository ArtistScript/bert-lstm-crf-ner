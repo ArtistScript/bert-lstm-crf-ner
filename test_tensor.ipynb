{
 "cells": [
  {
   "cell_type": "code",
   "execution_count": 3,
   "metadata": {},
   "outputs": [
    {
     "name": "stdout",
     "output_type": "stream",
     "text": [
      "[[1 2 3 4 5]\n",
      " [1 2 2 2 2]]\n",
      "[[1 2 3]\n",
      " [1 2 2]]\n",
      "[2 5]\n",
      "[2 5]\n",
      "[[ True  True  True  True  True]\n",
      " [ True  True False False False]]\n",
      "[[1 1 1 1 1]\n",
      " [1 1 0 0 0]]\n",
      "7\n",
      "10\n",
      "accuracy: 0.7\n"
     ]
    }
   ],
   "source": [
    "import tensorflow as tf\n",
    "pred_ids=[[1,2,3,4,5],[1,2,3,4,5]]\n",
    "pred_ids2=[[1,2,3,4,5],[1,2,2,2,2]]\n",
    "pred_ids_t=tf.constant(pred_ids,dtype=tf.int32)\n",
    "shaped=tf.constant(pred_ids2,dtype=tf.int32)\n",
    "# shaped=shaped.get_shape()\n",
    "sliced=shaped[:,:3]\n",
    "# assert tf.shape(pred_ids_t)[0]==tf.shape(shaped)[0]\n",
    "# assert_op = tf.Assert(tf.less_equal(tf.reduce_max(x), 1.), [x])\n",
    "equal=tf.equal(pred_ids_t,shaped)\n",
    "equal_int=tf.cast(equal,dtype=tf.int32)\n",
    "sum_int=tf.reduce_sum(equal_int)\n",
    "size=tf.size(equal_int)\n",
    "accuracy=sum_int/size\n",
    "with tf.Session() as sess:\n",
    "    sp=sess.run(shaped)\n",
    "    print(sp)\n",
    "    print(sess.run(sliced))\n",
    "    print(sess.run(tf.shape(pred_ids_t)))\n",
    "    print(sess.run(tf.shape(shaped)))\n",
    "    print(sess.run(equal))\n",
    "    print(sess.run(equal_int))\n",
    "    print(sess.run(sum_int))\n",
    "    print(sess.run(size))\n",
    "    acu=sess.run(accuracy)\n",
    "    print('accuracy: %s'%(acu))\n",
    "#     print(sess.run(shaped))"
   ]
  },
  {
   "cell_type": "code",
   "execution_count": 2,
   "metadata": {},
   "outputs": [
    {
     "name": "stdout",
     "output_type": "stream",
     "text": [
      "2\n",
      "[[1 2 3 4 5]\n",
      " [1 2 3 4 5]]\n",
      "[[1 2]\n",
      " [1 2]]\n"
     ]
    }
   ],
   "source": [
    "import tensorflow as tf\n",
    "pred_ids=[[1,2,3,4,5],[1,2,3,4,5]]\n",
    "pred_ids_t=tf.constant(pred_ids,dtype=tf.int32)\n",
    "ll=[1,0,1,0]\n",
    "lengths=tf.reduce_sum(ll)#不能使用 ,reduction_indices=1\n",
    "pred_shape=tf.shape(pred_ids)\n",
    "sliced=tf.slice(pred_ids,[0,0],[pred_shape[0],lengths])\n",
    "with tf.Session() as sess:\n",
    "    print(sess.run(lengths))\n",
    "    print(sess.run(pred_ids_t))\n",
    "    print(sess.run(sliced))"
   ]
  },
  {
   "cell_type": "code",
   "execution_count": 6,
   "metadata": {},
   "outputs": [
    {
     "name": "stdout",
     "output_type": "stream",
     "text": [
      "[[0]\n",
      " [1]\n",
      " [2]\n",
      " [3]\n",
      " [4]]\n"
     ]
    }
   ],
   "source": [
    "from tensorflow.python.ops import math_ops\n",
    "from tensorflow.python.framework import constant_op\n",
    "matrix=[[1],[2],[3],[4],[5]]\n",
    "matrix_t=tf.constant(matrix,dtype=tf.int32)\n",
    "m_t=matrix_t-1\n",
    "sequence_length_less_one = math_ops.maximum(\n",
    "        constant_op.constant(0, dtype=matrix_t.dtype),\n",
    "        matrix_t - 1)\n",
    "with tf.Session() as sess:\n",
    "    print(sess.run(sequence_length_less_one))"
   ]
  },
  {
   "cell_type": "code",
   "execution_count": 9,
   "metadata": {},
   "outputs": [
    {
     "name": "stdout",
     "output_type": "stream",
     "text": [
      "[(0.6666667, 0.6666667)]\n"
     ]
    }
   ],
   "source": [
    "logits = [[0.1, 0.5, 0.4],\n",
    "          [0.8, 0.1, 0.1],\n",
    "          [0.6, 0.3, 0.2]]\n",
    "labels = [[0, 1, 0],\n",
    "          [1, 0, 0],\n",
    "          [0, 0, 1]]\n",
    "acc, acc_op = tf.metrics.accuracy(labels=tf.argmax(labels, 1), \n",
    "                                  predictions=tf.argmax(logits,1))\n",
    "sess = tf.Session()\n",
    "\n",
    "sess.run(tf.local_variables_initializer())\n",
    "sess.run(tf.global_variables_initializer())\n",
    "print(sess.run([acc, acc_op]))\n",
    "print(sess.run([acc]))"
   ]
  },
  {
   "cell_type": "code",
   "execution_count": null,
   "metadata": {},
   "outputs": [],
   "source": [
    "#condition test\n",
    "import tensorflow as tf\n",
    "def foo(c):\n",
    "    \n",
    "    if c:\n",
    "        print('This is true')\n",
    "    #heavy code here\n",
    "    return 10\n",
    "    else:\n",
    "    print('This is false')\n",
    "    #different code here\n",
    "    return 0\n",
    "a = tf.placeholder(tf.bool)  #placeholder for a single boolean value\n",
    "b = foo(a)\n",
    "sess = tf.InteractiveSession()\n",
    "res = sess.run(b, feed_dict = {a: True})\n",
    "sess.close()"
   ]
  },
  {
   "cell_type": "code",
   "execution_count": 18,
   "metadata": {},
   "outputs": [
    {
     "ename": "SyntaxError",
     "evalue": "invalid character in identifier (<ipython-input-18-5d6d149b2c70>, line 4)",
     "output_type": "error",
     "traceback": [
      "\u001b[1;36m  File \u001b[1;32m\"<ipython-input-18-5d6d149b2c70>\"\u001b[1;36m, line \u001b[1;32m4\u001b[0m\n\u001b[1;33m    if x：\u001b[0m\n\u001b[1;37m        ^\u001b[0m\n\u001b[1;31mSyntaxError\u001b[0m\u001b[1;31m:\u001b[0m invalid character in identifier\n"
     ]
    }
   ],
   "source": [
    "import tensorflow as tf\n",
    "def funca(is_training):\n",
    "    x=tf.cond(tf.equal(is_training, tf.constant(True)), lambda: True, lambda: False) #左边lambda是true表达式\n",
    "    if x：\n",
    "        return \"is_traing\"\n",
    "    else:\n",
    "        return \"evaluating\"\n",
    "a = tf.placeholder(tf.bool)  #placeholder for a single boolean value\n",
    "# b = tf.cond(tf.equal(a, tf.constant(True)), lambda: tf.constant(10), lambda: tf.constant(0))\n",
    "c = funca(a)\n",
    "sess = tf.InteractiveSession()\n",
    "res = sess.run(c, feed_dict = {a: True})\n",
    "sess.close()\n",
    "print(res)"
   ]
  },
  {
   "cell_type": "code",
   "execution_count": 27,
   "metadata": {},
   "outputs": [
    {
     "name": "stdout",
     "output_type": "stream",
     "text": [
      "4 9\n"
     ]
    }
   ],
   "source": [
    "import tensorflow as tf\n",
    "def foo(a,b):\n",
    "#     c=tf.cond(tf.equal(c, tf.constant(True)), lambda: True, lambda: False) #左边lambda是true表达式\n",
    "    return a*a,b*b\n",
    "\n",
    "a = tf.placeholder(tf.bool)  #placeholder for a single boolean value\n",
    "def fn1():\n",
    "    return foo(1,2)\n",
    "def fn2():\n",
    "    return foo(2,3)\n",
    "x,y=tf.cond(tf.equal(a, tf.constant(True)), true_fn=fn1,false_fn=fn2 )\n",
    "# b=tf.cond(tf.equal(a, tf.constant(True)), lambda: True, lambda: False) #左边lambda是true表达式\n",
    "sess = tf.InteractiveSession()\n",
    "res1,res2 = sess.run([x,y], feed_dict = {a: False})\n",
    "sess.close()\n",
    "print(res1,res2)"
   ]
  },
  {
   "cell_type": "code",
   "execution_count": 7,
   "metadata": {},
   "outputs": [
    {
     "name": "stdout",
     "output_type": "stream",
     "text": [
      "[5, 10]\n"
     ]
    }
   ],
   "source": [
    "import tensorflow as tf\n",
    "#测试scope\n",
    "def fun1(c):\n",
    "    with tf.variable_scope(\"compute\"):\n",
    "        res=tf.cond(tf.equal(c, tf.constant(True)), lambda:tf.constant(5), lambda:tf.constant(10)) #左边lambda是true表达式\n",
    "    return res\n",
    "b=tf.placeholder(tf.bool)\n",
    "a=tf.placeholder(tf.bool)\n",
    "res1=fun1(a)\n",
    "res2=fun1(b)\n",
    "with tf.Session() as sess:\n",
    "    print(sess.run([res1,res2],feed_dict={a: True,b:False}))"
   ]
  },
  {
   "cell_type": "code",
   "execution_count": 9,
   "metadata": {},
   "outputs": [
    {
     "ename": "SyntaxError",
     "evalue": "invalid syntax (<ipython-input-9-57baecfcecac>, line 4)",
     "output_type": "error",
     "traceback": [
      "\u001b[1;36m  File \u001b[1;32m\"<ipython-input-9-57baecfcecac>\"\u001b[1;36m, line \u001b[1;32m4\u001b[0m\n\u001b[1;33m    with tf.variable_scope(foo_scope)\u001b[0m\n\u001b[1;37m                                     ^\u001b[0m\n\u001b[1;31mSyntaxError\u001b[0m\u001b[1;31m:\u001b[0m invalid syntax\n"
     ]
    }
   ],
   "source": [
    "import tensorflow as tf\n",
    "with tf.variable_scope(\"foo\") as foo_scope:\n",
    "    v = tf.get_variable(\"v\", [1])\n",
    "with tf.variable_scope(foo_scope)\n",
    "    w = tf.get_variable(\"w\", [1])\n",
    "with tf.variable_scope(foo_scope, reuse=True)\n",
    "    v1 = tf.get_variable(\"v\", [1])\n",
    "    w1 = tf.get_variable(\"w\", [1])\n",
    "assert v1 == v\n",
    "assert w1 == w"
   ]
  },
  {
   "cell_type": "code",
   "execution_count": 9,
   "metadata": {},
   "outputs": [
    {
     "name": "stdout",
     "output_type": "stream",
     "text": [
      "hh/V1/a1:0\n",
      "[1.]\n",
      "hh/V1/a1:0\n",
      "[1.]\n"
     ]
    }
   ],
   "source": [
    "\n",
    "import tensorflow as tf;  \n",
    "import numpy as np;  \n",
    "import matplotlib.pyplot as plt;  \n",
    " \n",
    "with tf.variable_scope('hh',reuse=tf.AUTO_REUSE):\n",
    "    with tf.variable_scope('V1',reuse=tf.AUTO_REUSE):\n",
    "        a1 = tf.get_variable(name='a1', shape=[1], initializer=tf.constant_initializer(1))\n",
    "\n",
    "    \n",
    "with tf.variable_scope('hh',reuse=tf.AUTO_REUSE):\n",
    "    with tf.variable_scope('V1',reuse=tf.AUTO_REUSE) as scope:\n",
    "        try:\n",
    "            a3 = tf.get_variable('a1')\n",
    "        except ValueError:\n",
    "            scope.reuse_variables()\n",
    "            a3 = tf.get_variable('a1')\n",
    "\n",
    "    \n",
    "with tf.Session() as sess:\n",
    "    sess.run(tf.initialize_all_variables())\n",
    "    print(a1.name)\n",
    "    print(sess.run(a1))\n",
    "    print(a3.name)\n",
    "    print(sess.run(a3))\n"
   ]
  },
  {
   "cell_type": "code",
   "execution_count": null,
   "metadata": {},
   "outputs": [],
   "source": [
    "#测试get_variable，获取原来存在的weight，以及histogram打印\n",
    "import tensorflow as tf\n",
    "a=[[1.0],[2.0],[3.0]]\n",
    "b=[[1.0],[2.0],[3.0]]\n",
    "pred_ids=tf.constant(a,type=tf.float32)\n",
    "labels=tfant(a,type=tf.float32)"
   ]
  }
 ],
 "metadata": {
  "kernelspec": {
   "display_name": "Python 3",
   "language": "python",
   "name": "python3"
  },
  "language_info": {
   "codemirror_mode": {
    "name": "ipython",
    "version": 3
   },
   "file_extension": ".py",
   "mimetype": "text/x-python",
   "name": "python",
   "nbconvert_exporter": "python",
   "pygments_lexer": "ipython3",
   "version": "3.6.1"
  }
 },
 "nbformat": 4,
 "nbformat_minor": 2
}
