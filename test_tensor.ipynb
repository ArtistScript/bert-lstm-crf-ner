{
 "cells": [
  {
   "cell_type": "code",
   "execution_count": 3,
   "metadata": {},
   "outputs": [
    {
     "name": "stdout",
     "output_type": "stream",
     "text": [
      "[[1 2 3 4 5]\n",
      " [1 2 2 2 2]]\n",
      "[[1 2 3]\n",
      " [1 2 2]]\n",
      "[2 5]\n",
      "[2 5]\n",
      "[[ True  True  True  True  True]\n",
      " [ True  True False False False]]\n",
      "[[1 1 1 1 1]\n",
      " [1 1 0 0 0]]\n",
      "7\n",
      "10\n",
      "accuracy: 0.7\n"
     ]
    }
   ],
   "source": [
    "import tensorflow as tf\n",
    "pred_ids=[[1,2,3,4,5],[1,2,3,4,5]]\n",
    "pred_ids2=[[1,2,3,4,5],[1,2,2,2,2]]\n",
    "pred_ids_t=tf.constant(pred_ids,dtype=tf.int32)\n",
    "shaped=tf.constant(pred_ids2,dtype=tf.int32)\n",
    "# shaped=shaped.get_shape()\n",
    "sliced=shaped[:,:3]\n",
    "# assert tf.shape(pred_ids_t)[0]==tf.shape(shaped)[0]\n",
    "# assert_op = tf.Assert(tf.less_equal(tf.reduce_max(x), 1.), [x])\n",
    "equal=tf.equal(pred_ids_t,shaped)\n",
    "equal_int=tf.cast(equal,dtype=tf.int32)\n",
    "sum_int=tf.reduce_sum(equal_int)\n",
    "size=tf.size(equal_int)\n",
    "accuracy=sum_int/size\n",
    "with tf.Session() as sess:\n",
    "    sp=sess.run(shaped)\n",
    "    print(sp)\n",
    "    print(sess.run(sliced))\n",
    "    print(sess.run(tf.shape(pred_ids_t)))\n",
    "    print(sess.run(tf.shape(shaped)))\n",
    "    print(sess.run(equal))\n",
    "    print(sess.run(equal_int))\n",
    "    print(sess.run(sum_int))\n",
    "    print(sess.run(size))\n",
    "    acu=sess.run(accuracy)\n",
    "    print('accuracy: %s'%(acu))\n",
    "#     print(sess.run(shaped))"
   ]
  },
  {
   "cell_type": "code",
   "execution_count": 2,
   "metadata": {},
   "outputs": [
    {
     "name": "stdout",
     "output_type": "stream",
     "text": [
      "2\n",
      "[[1 2 3 4 5]\n",
      " [1 2 3 4 5]]\n",
      "[[1 2]\n",
      " [1 2]]\n"
     ]
    }
   ],
   "source": [
    "import tensorflow as tf\n",
    "pred_ids=[[1,2,3,4,5],[1,2,3,4,5]]\n",
    "pred_ids_t=tf.constant(pred_ids,dtype=tf.int32)\n",
    "ll=[1,0,1,0]\n",
    "lengths=tf.reduce_sum(ll)#不能使用 ,reduction_indices=1\n",
    "pred_shape=tf.shape(pred_ids)\n",
    "sliced=tf.slice(pred_ids,[0,0],[pred_shape[0],lengths])\n",
    "with tf.Session() as sess:\n",
    "    print(sess.run(lengths))\n",
    "    print(sess.run(pred_ids_t))\n",
    "    print(sess.run(sliced))"
   ]
  },
  {
   "cell_type": "code",
   "execution_count": 6,
   "metadata": {},
   "outputs": [
    {
     "name": "stdout",
     "output_type": "stream",
     "text": [
      "[[0]\n",
      " [1]\n",
      " [2]\n",
      " [3]\n",
      " [4]]\n"
     ]
    }
   ],
   "source": [
    "from tensorflow.python.ops import math_ops\n",
    "from tensorflow.python.framework import constant_op\n",
    "matrix=[[1],[2],[3],[4],[5]]\n",
    "matrix_t=tf.constant(matrix,dtype=tf.int32)\n",
    "m_t=matrix_t-1\n",
    "sequence_length_less_one = math_ops.maximum(\n",
    "        constant_op.constant(0, dtype=matrix_t.dtype),\n",
    "        matrix_t - 1)\n",
    "with tf.Session() as sess:\n",
    "    print(sess.run(sequence_length_less_one))"
   ]
  },
  {
   "cell_type": "code",
   "execution_count": 9,
   "metadata": {},
   "outputs": [
    {
     "name": "stdout",
     "output_type": "stream",
     "text": [
      "[(0.6666667, 0.6666667)]\n"
     ]
    }
   ],
   "source": [
    "logits = [[0.1, 0.5, 0.4],\n",
    "          [0.8, 0.1, 0.1],\n",
    "          [0.6, 0.3, 0.2]]\n",
    "labels = [[0, 1, 0],\n",
    "          [1, 0, 0],\n",
    "          [0, 0, 1]]\n",
    "acc, acc_op = tf.metrics.accuracy(labels=tf.argmax(labels, 1), \n",
    "                                  predictions=tf.argmax(logits,1))\n",
    "sess = tf.Session()\n",
    "\n",
    "sess.run(tf.local_variables_initializer())\n",
    "sess.run(tf.global_variables_initializer())\n",
    "print(sess.run([acc, acc_op]))\n",
    "print(sess.run([acc]))"
   ]
  },
  {
   "cell_type": "code",
   "execution_count": null,
   "metadata": {},
   "outputs": [],
   "source": [
    "#condition test\n",
    "import tensorflow as tf\n",
    "def foo(c):\n",
    "    \n",
    "    if c:\n",
    "        print('This is true')\n",
    "    #heavy code here\n",
    "    return 10\n",
    "    else:\n",
    "    print('This is false')\n",
    "    #different code here\n",
    "    return 0\n",
    "a = tf.placeholder(tf.bool)  #placeholder for a single boolean value\n",
    "b = foo(a)\n",
    "sess = tf.InteractiveSession()\n",
    "res = sess.run(b, feed_dict = {a: True})\n",
    "sess.close()"
   ]
  },
  {
   "cell_type": "code",
   "execution_count": 18,
   "metadata": {},
   "outputs": [
    {
     "ename": "SyntaxError",
     "evalue": "invalid character in identifier (<ipython-input-18-5d6d149b2c70>, line 4)",
     "output_type": "error",
     "traceback": [
      "\u001b[1;36m  File \u001b[1;32m\"<ipython-input-18-5d6d149b2c70>\"\u001b[1;36m, line \u001b[1;32m4\u001b[0m\n\u001b[1;33m    if x：\u001b[0m\n\u001b[1;37m        ^\u001b[0m\n\u001b[1;31mSyntaxError\u001b[0m\u001b[1;31m:\u001b[0m invalid character in identifier\n"
     ]
    }
   ],
   "source": [
    "import tensorflow as tf\n",
    "def funca(is_training):\n",
    "    x=tf.cond(tf.equal(is_training, tf.constant(True)), lambda: True, lambda: False) #左边lambda是true表达式\n",
    "    if x：\n",
    "        return \"is_traing\"\n",
    "    else:\n",
    "        return \"evaluating\"\n",
    "a = tf.placeholder(tf.bool)  #placeholder for a single boolean value\n",
    "# b = tf.cond(tf.equal(a, tf.constant(True)), lambda: tf.constant(10), lambda: tf.constant(0))\n",
    "c = funca(a)\n",
    "sess = tf.InteractiveSession()\n",
    "res = sess.run(c, feed_dict = {a: True})\n",
    "sess.close()\n",
    "print(res)"
   ]
  },
  {
   "cell_type": "code",
   "execution_count": 27,
   "metadata": {},
   "outputs": [
    {
     "name": "stdout",
     "output_type": "stream",
     "text": [
      "4 9\n"
     ]
    }
   ],
   "source": [
    "import tensorflow as tf\n",
    "def foo(a,b):\n",
    "#     c=tf.cond(tf.equal(c, tf.constant(True)), lambda: True, lambda: False) #左边lambda是true表达式\n",
    "    return a*a,b*b\n",
    "\n",
    "a = tf.placeholder(tf.bool)  #placeholder for a single boolean value\n",
    "def fn1():\n",
    "    return foo(1,2)\n",
    "def fn2():\n",
    "    return foo(2,3)\n",
    "x,y=tf.cond(tf.equal(a, tf.constant(True)), true_fn=fn1,false_fn=fn2 )\n",
    "# b=tf.cond(tf.equal(a, tf.constant(True)), lambda: True, lambda: False) #左边lambda是true表达式\n",
    "sess = tf.InteractiveSession()\n",
    "res1,res2 = sess.run([x,y], feed_dict = {a: False})\n",
    "sess.close()\n",
    "print(res1,res2)"
   ]
  },
  {
   "cell_type": "code",
   "execution_count": 7,
   "metadata": {},
   "outputs": [
    {
     "name": "stdout",
     "output_type": "stream",
     "text": [
      "[5, 10]\n"
     ]
    }
   ],
   "source": [
    "import tensorflow as tf\n",
    "#测试scope\n",
    "def fun1(c):\n",
    "    with tf.variable_scope(\"compute\"):\n",
    "        res=tf.cond(tf.equal(c, tf.constant(True)), lambda:tf.constant(5), lambda:tf.constant(10)) #左边lambda是true表达式\n",
    "    return res\n",
    "b=tf.placeholder(tf.bool)\n",
    "a=tf.placeholder(tf.bool)\n",
    "res1=fun1(a)\n",
    "res2=fun1(b)\n",
    "with tf.Session() as sess:\n",
    "    print(sess.run([res1,res2],feed_dict={a: True,b:False}))"
   ]
  },
  {
   "cell_type": "code",
   "execution_count": 9,
   "metadata": {},
   "outputs": [
    {
     "ename": "SyntaxError",
     "evalue": "invalid syntax (<ipython-input-9-57baecfcecac>, line 4)",
     "output_type": "error",
     "traceback": [
      "\u001b[1;36m  File \u001b[1;32m\"<ipython-input-9-57baecfcecac>\"\u001b[1;36m, line \u001b[1;32m4\u001b[0m\n\u001b[1;33m    with tf.variable_scope(foo_scope)\u001b[0m\n\u001b[1;37m                                     ^\u001b[0m\n\u001b[1;31mSyntaxError\u001b[0m\u001b[1;31m:\u001b[0m invalid syntax\n"
     ]
    }
   ],
   "source": [
    "import tensorflow as tf\n",
    "with tf.variable_scope(\"foo\") as foo_scope:\n",
    "    v = tf.get_variable(\"v\", [1])\n",
    "with tf.variable_scope(foo_scope)\n",
    "    w = tf.get_variable(\"w\", [1])\n",
    "with tf.variable_scope(foo_scope, reuse=True)\n",
    "    v1 = tf.get_variable(\"v\", [1])\n",
    "    w1 = tf.get_variable(\"w\", [1])\n",
    "assert v1 == v\n",
    "assert w1 == w"
   ]
  },
  {
   "cell_type": "code",
   "execution_count": 2,
   "metadata": {},
   "outputs": [
    {
     "ename": "ValueError",
     "evalue": "Variable foo/fooo/v does not exist, or was not created with tf.get_variable(). Did you mean to set reuse=tf.AUTO_REUSE in VarScope?",
     "output_type": "error",
     "traceback": [
      "\u001b[1;31m---------------------------------------------------------------------------\u001b[0m",
      "\u001b[1;31mValueError\u001b[0m                                Traceback (most recent call last)",
      "\u001b[1;32m<ipython-input-2-75b837a15cf3>\u001b[0m in \u001b[0;36m<module>\u001b[1;34m\u001b[0m\n\u001b[0;32m      2\u001b[0m \u001b[1;32mwith\u001b[0m \u001b[0mtf\u001b[0m\u001b[1;33m.\u001b[0m\u001b[0mvariable_scope\u001b[0m\u001b[1;33m(\u001b[0m\u001b[1;34m'foo'\u001b[0m\u001b[1;33m,\u001b[0m \u001b[0mreuse\u001b[0m\u001b[1;33m=\u001b[0m\u001b[1;32mTrue\u001b[0m\u001b[1;33m)\u001b[0m\u001b[1;33m:\u001b[0m\u001b[1;33m\u001b[0m\u001b[0m\n\u001b[0;32m      3\u001b[0m     \u001b[1;32mwith\u001b[0m \u001b[0mtf\u001b[0m\u001b[1;33m.\u001b[0m\u001b[0mvariable_scope\u001b[0m\u001b[1;33m(\u001b[0m\u001b[1;34m'fooo'\u001b[0m\u001b[1;33m,\u001b[0m \u001b[0mreuse\u001b[0m\u001b[1;33m=\u001b[0m\u001b[1;32mTrue\u001b[0m\u001b[1;33m)\u001b[0m\u001b[1;33m:\u001b[0m\u001b[1;33m\u001b[0m\u001b[0m\n\u001b[1;32m----> 4\u001b[1;33m         \u001b[0mv1\u001b[0m \u001b[1;33m=\u001b[0m \u001b[0mtf\u001b[0m\u001b[1;33m.\u001b[0m\u001b[0mget_variable\u001b[0m\u001b[1;33m(\u001b[0m\u001b[1;34m'v'\u001b[0m\u001b[1;33m,\u001b[0m\u001b[1;33m[\u001b[0m\u001b[1;36m1\u001b[0m\u001b[1;33m]\u001b[0m\u001b[1;33m)\u001b[0m\u001b[1;33m\u001b[0m\u001b[0m\n\u001b[0m\u001b[0;32m      5\u001b[0m \u001b[1;32mwith\u001b[0m \u001b[0mtf\u001b[0m\u001b[1;33m.\u001b[0m\u001b[0mSession\u001b[0m\u001b[1;33m(\u001b[0m\u001b[1;33m)\u001b[0m \u001b[1;32mas\u001b[0m \u001b[0msess\u001b[0m\u001b[1;33m:\u001b[0m\u001b[1;33m\u001b[0m\u001b[0m\n\u001b[0;32m      6\u001b[0m     \u001b[0mprint\u001b[0m\u001b[1;33m(\u001b[0m\u001b[0msess\u001b[0m\u001b[1;33m.\u001b[0m\u001b[0mrun\u001b[0m\u001b[1;33m(\u001b[0m\u001b[0mv1\u001b[0m\u001b[1;33m)\u001b[0m\u001b[1;33m)\u001b[0m\u001b[1;33m\u001b[0m\u001b[0m\n",
      "\u001b[1;32mc:\\python36\\lib\\site-packages\\tensorflow\\python\\ops\\variable_scope.py\u001b[0m in \u001b[0;36mget_variable\u001b[1;34m(name, shape, dtype, initializer, regularizer, trainable, collections, caching_device, partitioner, validate_shape, use_resource, custom_getter, constraint, synchronization, aggregation)\u001b[0m\n\u001b[0;32m   1477\u001b[0m       \u001b[0mconstraint\u001b[0m\u001b[1;33m=\u001b[0m\u001b[0mconstraint\u001b[0m\u001b[1;33m,\u001b[0m\u001b[1;33m\u001b[0m\u001b[0m\n\u001b[0;32m   1478\u001b[0m       \u001b[0msynchronization\u001b[0m\u001b[1;33m=\u001b[0m\u001b[0msynchronization\u001b[0m\u001b[1;33m,\u001b[0m\u001b[1;33m\u001b[0m\u001b[0m\n\u001b[1;32m-> 1479\u001b[1;33m       aggregation=aggregation)\n\u001b[0m\u001b[0;32m   1480\u001b[0m \u001b[1;33m\u001b[0m\u001b[0m\n\u001b[0;32m   1481\u001b[0m \u001b[1;33m\u001b[0m\u001b[0m\n",
      "\u001b[1;32mc:\\python36\\lib\\site-packages\\tensorflow\\python\\ops\\variable_scope.py\u001b[0m in \u001b[0;36mget_variable\u001b[1;34m(self, var_store, name, shape, dtype, initializer, regularizer, reuse, trainable, collections, caching_device, partitioner, validate_shape, use_resource, custom_getter, constraint, synchronization, aggregation)\u001b[0m\n\u001b[0;32m   1218\u001b[0m           \u001b[0mconstraint\u001b[0m\u001b[1;33m=\u001b[0m\u001b[0mconstraint\u001b[0m\u001b[1;33m,\u001b[0m\u001b[1;33m\u001b[0m\u001b[0m\n\u001b[0;32m   1219\u001b[0m           \u001b[0msynchronization\u001b[0m\u001b[1;33m=\u001b[0m\u001b[0msynchronization\u001b[0m\u001b[1;33m,\u001b[0m\u001b[1;33m\u001b[0m\u001b[0m\n\u001b[1;32m-> 1220\u001b[1;33m           aggregation=aggregation)\n\u001b[0m\u001b[0;32m   1221\u001b[0m \u001b[1;33m\u001b[0m\u001b[0m\n\u001b[0;32m   1222\u001b[0m   def _get_partitioned_variable(self,\n",
      "\u001b[1;32mc:\\python36\\lib\\site-packages\\tensorflow\\python\\ops\\variable_scope.py\u001b[0m in \u001b[0;36mget_variable\u001b[1;34m(self, name, shape, dtype, initializer, regularizer, reuse, trainable, collections, caching_device, partitioner, validate_shape, use_resource, custom_getter, constraint, synchronization, aggregation)\u001b[0m\n\u001b[0;32m    545\u001b[0m           \u001b[0mconstraint\u001b[0m\u001b[1;33m=\u001b[0m\u001b[0mconstraint\u001b[0m\u001b[1;33m,\u001b[0m\u001b[1;33m\u001b[0m\u001b[0m\n\u001b[0;32m    546\u001b[0m           \u001b[0msynchronization\u001b[0m\u001b[1;33m=\u001b[0m\u001b[0msynchronization\u001b[0m\u001b[1;33m,\u001b[0m\u001b[1;33m\u001b[0m\u001b[0m\n\u001b[1;32m--> 547\u001b[1;33m           aggregation=aggregation)\n\u001b[0m\u001b[0;32m    548\u001b[0m \u001b[1;33m\u001b[0m\u001b[0m\n\u001b[0;32m    549\u001b[0m   def _get_partitioned_variable(self,\n",
      "\u001b[1;32mc:\\python36\\lib\\site-packages\\tensorflow\\python\\ops\\variable_scope.py\u001b[0m in \u001b[0;36m_true_getter\u001b[1;34m(name, shape, dtype, initializer, regularizer, reuse, trainable, collections, caching_device, partitioner, validate_shape, use_resource, constraint, synchronization, aggregation)\u001b[0m\n\u001b[0;32m    497\u001b[0m           \u001b[0mconstraint\u001b[0m\u001b[1;33m=\u001b[0m\u001b[0mconstraint\u001b[0m\u001b[1;33m,\u001b[0m\u001b[1;33m\u001b[0m\u001b[0m\n\u001b[0;32m    498\u001b[0m           \u001b[0msynchronization\u001b[0m\u001b[1;33m=\u001b[0m\u001b[0msynchronization\u001b[0m\u001b[1;33m,\u001b[0m\u001b[1;33m\u001b[0m\u001b[0m\n\u001b[1;32m--> 499\u001b[1;33m           aggregation=aggregation)\n\u001b[0m\u001b[0;32m    500\u001b[0m \u001b[1;33m\u001b[0m\u001b[0m\n\u001b[0;32m    501\u001b[0m     \u001b[1;31m# Set trainable value based on synchronization value.\u001b[0m\u001b[1;33m\u001b[0m\u001b[1;33m\u001b[0m\u001b[0m\n",
      "\u001b[1;32mc:\\python36\\lib\\site-packages\\tensorflow\\python\\ops\\variable_scope.py\u001b[0m in \u001b[0;36m_get_single_variable\u001b[1;34m(self, name, shape, dtype, initializer, regularizer, partition_info, reuse, trainable, collections, caching_device, validate_shape, use_resource, constraint, synchronization, aggregation)\u001b[0m\n\u001b[0;32m    864\u001b[0m       raise ValueError(\"Variable %s does not exist, or was not created with \"\n\u001b[0;32m    865\u001b[0m                        \u001b[1;34m\"tf.get_variable(). Did you mean to set \"\u001b[0m\u001b[1;33m\u001b[0m\u001b[0m\n\u001b[1;32m--> 866\u001b[1;33m                        \"reuse=tf.AUTO_REUSE in VarScope?\" % name)\n\u001b[0m\u001b[0;32m    867\u001b[0m \u001b[1;33m\u001b[0m\u001b[0m\n\u001b[0;32m    868\u001b[0m     \u001b[1;31m# Create the tensor to initialize the variable with default value.\u001b[0m\u001b[1;33m\u001b[0m\u001b[1;33m\u001b[0m\u001b[0m\n",
      "\u001b[1;31mValueError\u001b[0m: Variable foo/fooo/v does not exist, or was not created with tf.get_variable(). Did you mean to set reuse=tf.AUTO_REUSE in VarScope?"
     ]
    }
   ],
   "source": [
    "import tensorflow as tf\n",
    "with tf.variable_scope('foo', reuse=True):\n",
    "    with tf.variable_scope('fooo', reuse=True):\n",
    "        v1 = tf.get_variable('v',[1])\n",
    "with tf.Session() as sess:\n",
    "    print(sess.run(v1))\n"
   ]
  },
  {
   "cell_type": "code",
   "execution_count": null,
   "metadata": {},
   "outputs": [],
   "source": []
  }
 ],
 "metadata": {
  "kernelspec": {
   "display_name": "Python 3",
   "language": "python",
   "name": "python3"
  },
  "language_info": {
   "codemirror_mode": {
    "name": "ipython",
    "version": 3
   },
   "file_extension": ".py",
   "mimetype": "text/x-python",
   "name": "python",
   "nbconvert_exporter": "python",
   "pygments_lexer": "ipython3",
   "version": "3.6.1"
  }
 },
 "nbformat": 4,
 "nbformat_minor": 2
}
