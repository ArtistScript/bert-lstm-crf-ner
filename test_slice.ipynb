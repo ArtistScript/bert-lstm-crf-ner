{
 "cells": [
  {
   "cell_type": "code",
   "execution_count": 20,
   "metadata": {},
   "outputs": [
    {
     "name": "stdout",
     "output_type": "stream",
     "text": [
      "Tensor(\"Shape_6:0\", shape=(2,), dtype=int32)\n",
      "[[ 1.  2.  3.  4.  5.]\n",
      " [ 4.  5.  6.  7.  8.]\n",
      " [ 7.  8.  9. 10. 11.]]\n",
      "[[1. 2.]\n",
      " [4. 5.]\n",
      " [7. 8.]]\n",
      "[3 5]\n"
     ]
    }
   ],
   "source": [
    "import tensorflow as tf\n",
    "import numpy as np\n",
    "# Tensorflow交互式会话\n",
    "tf.InteractiveSession()\n",
    "aa=np.array([[1,2,3,4,5], [4,5,6,7,8], [7,8,9,10,11]])\n",
    "# 定义5x5大小的一个矩阵变量\n",
    "ll=[1,0,1]\n",
    "\n",
    "lengths=tf.reduce_sum(ll)\n",
    "a = tf.constant(aa, dtype=tf.float32)\n",
    "ss=tf.shape(aa)\n",
    "print(ss)\n",
    "# 进行切片操作，起始位置为[1,1]（从0开始），大小[2,2]\n",
    "b = tf.slice(a, [0, 0], [ss[0], lengths])\n",
    "\n",
    "# # 同上\n",
    "# c = tf.Variable(tf.truncated_normal(shape=[2, 6, 5], dtype=tf.float32))\n",
    "\n",
    "# d = tf.slice(c, [0, 2, 3], [2, 3, 1])\n",
    "\n",
    "# 全局变量初始化\n",
    "with tf.Session() as sess:\n",
    "    print(sess.run(a))\n",
    "    print(sess.run(b))\n",
    "    print(sess.run(ss))\n",
    "# print(\"Example 02\")\n",
    "\n",
    "# print(\"the original matrix:\\n\", c.eval())\n",
    "\n",
    "# print(\"after being sliced:\\n\", d.eval())\n"
   ]
  },
  {
   "cell_type": "code",
   "execution_count": null,
   "metadata": {},
   "outputs": [],
   "source": []
  },
  {
   "cell_type": "code",
   "execution_count": null,
   "metadata": {},
   "outputs": [],
   "source": []
  },
  {
   "cell_type": "code",
   "execution_count": null,
   "metadata": {},
   "outputs": [],
   "source": []
  }
 ],
 "metadata": {
  "kernelspec": {
   "display_name": "Python 3",
   "language": "python",
   "name": "python3"
  },
  "language_info": {
   "codemirror_mode": {
    "name": "ipython",
    "version": 3
   },
   "file_extension": ".py",
   "mimetype": "text/x-python",
   "name": "python",
   "nbconvert_exporter": "python",
   "pygments_lexer": "ipython3",
   "version": "3.6.1"
  }
 },
 "nbformat": 4,
 "nbformat_minor": 2
}
